{
  "nbformat": 4,
  "nbformat_minor": 0,
  "metadata": {
    "colab": {
      "provenance": []
    },
    "kernelspec": {
      "name": "python3",
      "display_name": "Python 3"
    },
    "language_info": {
      "name": "python"
    }
  },
  "cells": [
    {
      "cell_type": "markdown",
      "source": [
        "Movie Recommendation Model"
      ],
      "metadata": {
        "id": "1f9la-qgvB30"
      }
    },
    {
      "cell_type": "code",
      "execution_count": null,
      "metadata": {
        "id": "Zd2tww-TqPvP"
      },
      "outputs": [],
      "source": [
        "import numpy as np\n",
        "import pandas as pd\n",
        "import difflib\n",
        "from sklearn.feature_extraction.text import TfidfVectorizer\n",
        "from sklearn.metrics.pairwise import cosine_similarity\n"
      ]
    },
    {
      "cell_type": "markdown",
      "source": [
        "Data collection and Pre-Processing"
      ],
      "metadata": {
        "id": "G8QdTlXnyKxX"
      }
    },
    {
      "cell_type": "code",
      "source": [
        "#Loading data frame from csv file to pandas dataframe\n",
        "\n",
        "movies= pd.read_csv('movies.csv')"
      ],
      "metadata": {
        "id": "I9NRjPSUyN9e"
      },
      "execution_count": null,
      "outputs": []
    },
    {
      "cell_type": "code",
      "source": [
        "#printing the first 5 rows of the dataframe\n",
        "movies.head()"
      ],
      "metadata": {
        "id": "almOefunys7P"
      },
      "execution_count": null,
      "outputs": []
    },
    {
      "cell_type": "code",
      "source": [
        "movies.shape"
      ],
      "metadata": {
        "id": "kVYPcdV3nArl"
      },
      "execution_count": null,
      "outputs": []
    },
    {
      "cell_type": "code",
      "source": [
        "#selecting relevent features for recommendation\n",
        "rel_features = ['genres','keywords','cast','tagline','director']\n",
        "print(rel_features)"
      ],
      "metadata": {
        "id": "fgoSq1isnbJU"
      },
      "execution_count": null,
      "outputs": []
    },
    {
      "cell_type": "code",
      "source": [
        "#replacing missing values with null string\n",
        "for feature in rel_features:\n",
        "  movies[feature] = movies[feature].fillna('')"
      ],
      "metadata": {
        "id": "UuAdoIi1plL5"
      },
      "execution_count": null,
      "outputs": []
    },
    {
      "cell_type": "code",
      "source": [
        "#combining all the selected features \n",
        "combined = movies['genres']+'  '+movies['keywords']+'  '+movies['cast']+'  '+movies['tagline']+'  '+movies['director']"
      ],
      "metadata": {
        "id": "9BcBXt3zqR2l"
      },
      "execution_count": null,
      "outputs": []
    },
    {
      "cell_type": "code",
      "source": [
        "print(combined)"
      ],
      "metadata": {
        "id": "clMRyBh4rApB"
      },
      "execution_count": null,
      "outputs": []
    },
    {
      "cell_type": "code",
      "source": [
        "# converting text data into numerical data i.e vetors\n",
        "vectorizer = TfidfVectorizer()\n",
        "\n",
        "feature_vectors = vectorizer.fit_transform(combined)"
      ],
      "metadata": {
        "id": "kH68qlYxrNJI"
      },
      "execution_count": null,
      "outputs": []
    },
    {
      "cell_type": "code",
      "source": [
        "print(feature_vectors)"
      ],
      "metadata": {
        "id": "6zPxuWFdrvZA"
      },
      "execution_count": null,
      "outputs": []
    },
    {
      "cell_type": "code",
      "source": [
        "#getting similiarity score using cosine similarity\n",
        "\n",
        "similarity = cosine_similarity(feature_vectors)"
      ],
      "metadata": {
        "id": "EAM_uBHzsab9"
      },
      "execution_count": null,
      "outputs": []
    },
    {
      "cell_type": "code",
      "source": [
        "print(similarity)"
      ],
      "metadata": {
        "id": "w5GQGRT4AWFy"
      },
      "execution_count": null,
      "outputs": []
    },
    {
      "cell_type": "code",
      "source": [
        "#getting movie name as input from user\n",
        "\n",
        "mname = input(\"Enter the movie name : \")\n"
      ],
      "metadata": {
        "id": "R9JnolSWAapf"
      },
      "execution_count": null,
      "outputs": []
    },
    {
      "cell_type": "code",
      "source": [
        "#Creating a list of all movie names in the dataset\n",
        "title_list=movies['title'].tolist()\n",
        "print(title_list)"
      ],
      "metadata": {
        "id": "c6R5j03PBAZz"
      },
      "execution_count": null,
      "outputs": []
    },
    {
      "cell_type": "code",
      "source": [
        "#FInding close match for the movie name input given by the user\n",
        "\n",
        "find_match = difflib.get_close_matches(mname,title_list)\n",
        "print(find_match)"
      ],
      "metadata": {
        "id": "8zC-_a90BdF9"
      },
      "execution_count": null,
      "outputs": []
    },
    {
      "cell_type": "code",
      "source": [
        "close_match = find_match[0]\n",
        "print(close_match)"
      ],
      "metadata": {
        "id": "KqDRLFB9iH7a"
      },
      "execution_count": null,
      "outputs": []
    },
    {
      "cell_type": "code",
      "source": [
        "#finding the index of the movie with title\n",
        "index_of_movie = movies[movies.title == close_match]['index'].values[0]\n",
        "print(index_of_movie)"
      ],
      "metadata": {
        "id": "8o6v7w1EiV6V"
      },
      "execution_count": null,
      "outputs": []
    },
    {
      "cell_type": "code",
      "source": [
        "#Getting a list of similar movies\n",
        "\n",
        "similarity_score = list(enumerate(similarity[index_of_movie]))\n",
        "print(similarity_score)"
      ],
      "metadata": {
        "id": "M7GDzc5iiWAL"
      },
      "execution_count": null,
      "outputs": []
    },
    {
      "cell_type": "code",
      "source": [
        "len(similarity_score)"
      ],
      "metadata": {
        "id": "1fCbi_TFkA-B"
      },
      "execution_count": null,
      "outputs": []
    },
    {
      "cell_type": "code",
      "source": [
        "#Sorting the movies based on the similarity score\n",
        "\n",
        "sorted_list = sorted(similarity_score, key = lambda x:x[1],reverse = True)\n",
        "print(sorted_list)"
      ],
      "metadata": {
        "id": "1rj7lIQ4kNz1"
      },
      "execution_count": null,
      "outputs": []
    },
    {
      "cell_type": "code",
      "source": [
        " #Print the title of the movies based on the index from the sorted list\n",
        "print('Movie Recommendations :\\n ')\n",
        "i = 1\n",
        "\n",
        "for movie in sorted_list:\n",
        "  index = movie[0]\n",
        "  title_of_the_movie = movies[movies.index==index]['title'].values[0]\n",
        "  if (i<30) :\n",
        "    print(i,'.',title_of_the_movie)\n",
        "    i+=1\n"
      ],
      "metadata": {
        "id": "US7h5u9VlS40"
      },
      "execution_count": null,
      "outputs": []
    }
  ]
}